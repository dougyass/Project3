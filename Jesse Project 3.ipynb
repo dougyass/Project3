{
 "cells": [
  {
   "cell_type": "code",
   "execution_count": 113,
   "metadata": {
    "collapsed": false
   },
   "outputs": [],
   "source": [
    "import pandas as pd\n",
    "import seaborn as sns\n",
    "import numpy as np\n",
    "import matplotlib.pyplot as plt\n",
    "from sklearn import linear_model\n",
    "\n",
    "## Load the data into a DataFrame\n",
    "djs = pd.read_csv('assets/Iowa_Liquor_sales_sample_10pct.csv', encoding='latin-1')\n",
    "df = pd.read_csv('assets/iowa_15.csv', encoding='latin-1')\n",
    "#dk = pd.read_csv('assets/Iowa_Liquor_Sales.csv', encoding='latin-1')\n",
    "\n",
    "pd.options.mode.chained_assignment = None"
   ]
  },
  {
   "cell_type": "code",
   "execution_count": null,
   "metadata": {
    "collapsed": false,
    "scrolled": true
   },
   "outputs": [],
   "source": []
  },
  {
   "cell_type": "code",
   "execution_count": 200,
   "metadata": {
    "collapsed": false
   },
   "outputs": [],
   "source": [
    "#DOUG'S CODE OF CONDUCT\n",
    "\n",
    "#Converts State Bottle Cost Series to Float\n",
    "djs['State Bottle Cost'] = (djs['State Bottle Cost'].replace( '[\\$,)]','', regex=True )\\\n",
    "                            .replace( '[(]','-',   regex=True ).astype(float))\n",
    "\n",
    "#Converts State Bottle Retail Series to Float\n",
    "djs['State Bottle Retail'] = (djs['State Bottle Retail'].replace( '[\\$,)]','', regex=True )\\\n",
    "                              .replace( '[(]','-',   regex=True ).astype(float))\n",
    "\n",
    "#Converts Sale Dollars Series to Float\n",
    "djs['Sale (Dollars)'] = (djs['Sale (Dollars)'].replace( '[\\$,)]','', regex=True )\\\n",
    "                         .replace( '[(]','-',   regex=True ).astype(float))\n",
    "\n",
    "djs['City'] = map(lambda x: x.upper(), djs['City'])\n",
    "\n",
    "\n",
    "djs['Profit'] = djs['Sale (Dollars)'] - (djs['State Bottle Cost'] * djs['Bottles Sold'])"
   ]
  },
  {
   "cell_type": "code",
   "execution_count": 232,
   "metadata": {
    "collapsed": false,
    "scrolled": true
   },
   "outputs": [
    {
     "name": "stderr",
     "output_type": "stream",
     "text": [
      "/Users/Jesse/anaconda/lib/python2.7/site-packages/ipykernel/__main__.py:16: FutureWarning: sort(columns=....) is deprecated, use sort_values(by=.....)\n"
     ]
    }
   ],
   "source": [
    "#Reading in City/County name and estimated 2015 population\n",
    "name_df = df.iloc[:,8:9]\n",
    "pop_df = df.iloc[:,17:]\n",
    "\n",
    "name_pop_df = pd.concat([name_df, pop_df], axis=1)\n",
    "name_pop_df['NAME'] = (name_pop_df['NAME'].replace( ' city','', regex=True ))\n",
    "\n",
    "temp_df = name_pop_df.T\n",
    "temp_df = temp_df[[ind for ind, x in enumerate(name_pop_df['NAME']) if \"(pt.)\" not in x]].T\n",
    "name_pop_df = temp_df.reset_index(drop=True)\n",
    "\n",
    "temp_df = name_pop_df.T\n",
    "temp_df = temp_df[[ind for ind, x in enumerate(name_pop_df['NAME']) if \"Balance\" not in x]].T\n",
    "name_pop_df = temp_df.reset_index(drop=True)\n",
    "\n",
    "name_pop_df = name_pop_df.sort(columns=['NAME'])\n",
    "\n",
    "name_pop_df = name_pop_df.drop_duplicates(keep='first').reset_index(drop=True)"
   ]
  },
  {
   "cell_type": "code",
   "execution_count": 234,
   "metadata": {
    "collapsed": false
   },
   "outputs": [],
   "source": [
    "#Add County Population\n",
    "temp_df = name_pop_df.T\n",
    "temp_df = temp_df[[ind for ind, x in enumerate(name_pop_df['NAME']) if \"County\" in x]]\n",
    "temp_df = temp_df.T\n",
    "\n",
    "temp_df['NAME'] = (temp_df['NAME'].replace( ' County','', regex=True ))\n",
    "temp_df = temp_df.reset_index(drop=True)\n",
    "\n",
    "djs = djs.merge(temp_df, how='left', left_on='County', right_on='NAME')\n",
    "del djs['NAME']\n",
    "djs.rename(columns={'POPESTIMATE2015':'County Pop'}, inplace = True)\n",
    "\n",
    "\n",
    "\n",
    "#Add City Population\n",
    "temp_df = name_pop_df.T\n",
    "temp_df = temp_df[[ind for ind, x in enumerate(name_pop_df['NAME']) if \"County\" not in x]]\n",
    "temp_df = temp_df.T\n",
    "\n",
    "temp_df = temp_df.reset_index(drop=True)\n",
    "temp_df['NAME'] = map(lambda x: x.upper(), temp_df['NAME'])\n",
    "\n",
    "djs = djs.merge(temp_df, how='left', left_on='City', right_on='NAME')\n",
    "del djs['NAME']\n",
    "djs.rename(columns={'POPESTIMATE2015':'City Pop'}, inplace = True)"
   ]
  },
  {
   "cell_type": "code",
   "execution_count": null,
   "metadata": {
    "collapsed": false,
    "scrolled": true
   },
   "outputs": [],
   "source": []
  },
  {
   "cell_type": "code",
   "execution_count": null,
   "metadata": {
    "collapsed": false,
    "scrolled": true
   },
   "outputs": [],
   "source": []
  },
  {
   "cell_type": "code",
   "execution_count": null,
   "metadata": {
    "collapsed": false
   },
   "outputs": [],
   "source": [
    "'''store_dk = dk.iloc[:,2:3]\n",
    "county_dk = dk.iloc[:,9:10]\n",
    "\n",
    "testee = pd.concat([store_dk, county_dk], axis=1)\n",
    "\n",
    "\n",
    "testee.dropna(inplace=True)\n",
    "testee['County'] = map(lambda x: x.upper(), testee['County'])\n",
    "\n",
    "testee = testee.drop_duplicates(keep='first').reset_index(drop=True)\n",
    "\n",
    "test_dk = holy_moley.merge(testee, how='left', left_on='Store Number', right_on='Store Number')\n",
    "del test_dk['County_x']\n",
    "test_dk.rename(columns={'County_y':'County'}, inplace = True)\n",
    "\n",
    "i=0\n",
    "for x in test_dk['County']:\n",
    "    if x == 'CERRO GORD':\n",
    "        test_dk['County'][i] = 'CERRO GORDO'\n",
    "    if x == 'POTTAWATTA':\n",
    "        test_dk['County'][i] = 'POTTAWATTAMIE'\n",
    "    if x == 'OBRIEN':\n",
    "        test_dk['County'][i] = \"O'BRIEN\"\n",
    "    i+=1'''\n",
    "print"
   ]
  },
  {
   "cell_type": "code",
   "execution_count": 197,
   "metadata": {
    "collapsed": false
   },
   "outputs": [
    {
     "name": "stdout",
     "output_type": "stream",
     "text": [
      "\n"
     ]
    }
   ],
   "source": [
    "'''store_dk = dk.iloc[:,2:3]\n",
    "city_dk = dk.iloc[:,5:6]\n",
    "\n",
    "testee = pd.concat([store_dk, city_dk], axis=1)\n",
    "\n",
    "\n",
    "testee.dropna(inplace=True)\n",
    "testee['City'] = map(lambda x: x.upper(), testee['City'])\n",
    "\n",
    "testee = testee.drop_duplicates(keep='first').reset_index(drop=True)\n",
    "\n",
    "test_dk = test_dk.merge(testee, how='left', left_on='Store Number', right_on='Store Number')\n",
    "del test_dk['City_x']\n",
    "test_dk.rename(columns={'City_y':'City'}, inplace = True)\n",
    "\n",
    "i=0\n",
    "for x in test_dk['City']:\n",
    "    if x == 'GUTTENBERG':\n",
    "        test_dk['City'][i] = 'GUTTENBURG'\n",
    "\n",
    "    i+=1\n",
    "\n",
    "test_dk.head()'''\n",
    "print"
   ]
  },
  {
   "cell_type": "code",
   "execution_count": null,
   "metadata": {
    "collapsed": true
   },
   "outputs": [],
   "source": []
  }
 ],
 "metadata": {
  "anaconda-cloud": {},
  "kernelspec": {
   "display_name": "Python [Root]",
   "language": "python",
   "name": "Python [Root]"
  },
  "language_info": {
   "codemirror_mode": {
    "name": "ipython",
    "version": 2
   },
   "file_extension": ".py",
   "mimetype": "text/x-python",
   "name": "python",
   "nbconvert_exporter": "python",
   "pygments_lexer": "ipython2",
   "version": "2.7.12"
  }
 },
 "nbformat": 4,
 "nbformat_minor": 0
}
