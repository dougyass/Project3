{
 "cells": [
  {
   "cell_type": "code",
   "execution_count": 108,
   "metadata": {
    "collapsed": false
   },
   "outputs": [],
   "source": [
    "import pandas as pd\n",
    "import seaborn as sns\n",
    "import numpy as np\n",
    "import matplotlib.pyplot as plt\n",
    "from sklearn import linear_model\n",
    "\n",
    "## Load the data into a DataFrame\n",
    "djs = pd.read_csv('assets/Iowa_Liquor_sales_sample_10pct.csv', encoding='latin-1')\n",
    "df = pd.read_csv('assets/iowa_15.csv', encoding='latin-1')"
   ]
  },
  {
   "cell_type": "code",
   "execution_count": 109,
   "metadata": {
    "collapsed": false,
    "scrolled": true
   },
   "outputs": [
    {
     "data": {
      "text/plain": [
       "Date                      object\n",
       "Store Number               int64\n",
       "City                      object\n",
       "Zip Code                  object\n",
       "County Number            float64\n",
       "County                    object\n",
       "Category                 float64\n",
       "Category Name             object\n",
       "Vendor Number              int64\n",
       "Item Number                int64\n",
       "Item Description          object\n",
       "Bottle Volume (ml)         int64\n",
       "State Bottle Cost         object\n",
       "State Bottle Retail       object\n",
       "Bottles Sold               int64\n",
       "Sale (Dollars)            object\n",
       "Volume Sold (Liters)     float64\n",
       "Volume Sold (Gallons)    float64\n",
       "dtype: object"
      ]
     },
     "execution_count": 109,
     "metadata": {},
     "output_type": "execute_result"
    }
   ],
   "source": [
    "djs.dtypes"
   ]
  },
  {
   "cell_type": "code",
   "execution_count": 112,
   "metadata": {
    "collapsed": false
   },
   "outputs": [],
   "source": [
    "#Converts State Bottle Cost Series to Float\n",
    "djs['State Bottle Cost'] = (djs['State Bottle Cost'].replace( '[\\$,)]','', regex=True )\\\n",
    "                            .replace( '[(]','-',   regex=True ).astype(float))\n",
    "\n",
    "#Converts State Bottle Retail Series to Float\n",
    "djs['State Bottle Retail'] = (djs['State Bottle Retail'].replace( '[\\$,)]','', regex=True )\\\n",
    "                              .replace( '[(]','-',   regex=True ).astype(float))\n",
    "\n",
    "#Converts Sale Dollars Series to Float\n",
    "djs['Sale (Dollars)'] = (djs['Sale (Dollars)'].replace( '[\\$,)]','', regex=True )\\\n",
    "                         .replace( '[(]','-',   regex=True ).astype(float))"
   ]
  },
  {
   "cell_type": "code",
   "execution_count": null,
   "metadata": {
    "collapsed": false
   },
   "outputs": [],
   "source": []
  },
  {
   "cell_type": "code",
   "execution_count": 43,
   "metadata": {
    "collapsed": false
   },
   "outputs": [
    {
     "data": {
      "text/plain": [
       "unicode"
      ]
     },
     "execution_count": 43,
     "metadata": {},
     "output_type": "execute_result"
    }
   ],
   "source": [
    "type(djs['Sale (Dollars)'][5])"
   ]
  },
  {
   "cell_type": "code",
   "execution_count": 44,
   "metadata": {
    "collapsed": false
   },
   "outputs": [
    {
     "data": {
      "text/plain": [
       "Index([u'Date', u'Store Number', u'City', u'Zip Code', u'County Number',\n",
       "       u'County', u'Category', u'Category Name', u'Vendor Number',\n",
       "       u'Item Number', u'Item Description', u'Bottle Volume (ml)',\n",
       "       u'State Bottle Cost', u'State Bottle Retail', u'Bottles Sold',\n",
       "       u'Sale (Dollars)', u'Volume Sold (Liters)', u'Volume Sold (Gallons)'],\n",
       "      dtype='object')"
      ]
     },
     "execution_count": 44,
     "metadata": {},
     "output_type": "execute_result"
    }
   ],
   "source": [
    "djs.columns"
   ]
  },
  {
   "cell_type": "code",
   "execution_count": 118,
   "metadata": {
    "collapsed": false
   },
   "outputs": [
    {
     "name": "stdout",
     "output_type": "stream",
     "text": [
      "385\n",
      "1210\n"
     ]
    },
    {
     "data": {
      "text/html": [
       "<div>\n",
       "<table border=\"1\" class=\"dataframe\">\n",
       "  <thead>\n",
       "    <tr style=\"text-align: right;\">\n",
       "      <th></th>\n",
       "      <th>POPESTIMATE2015</th>\n",
       "    </tr>\n",
       "    <tr>\n",
       "      <th>NAME</th>\n",
       "      <th></th>\n",
       "    </tr>\n",
       "  </thead>\n",
       "  <tbody>\n",
       "    <tr>\n",
       "      <th>Ackley city</th>\n",
       "      <td>1560.0</td>\n",
       "    </tr>\n",
       "    <tr>\n",
       "      <th>Ackley city (pt.)</th>\n",
       "      <td>780.0</td>\n",
       "    </tr>\n",
       "    <tr>\n",
       "      <th>Ackworth city</th>\n",
       "      <td>86.0</td>\n",
       "    </tr>\n",
       "    <tr>\n",
       "      <th>Adair County</th>\n",
       "      <td>7228.0</td>\n",
       "    </tr>\n",
       "    <tr>\n",
       "      <th>Adair city</th>\n",
       "      <td>728.0</td>\n",
       "    </tr>\n",
       "    <tr>\n",
       "      <th>Adair city (pt.)</th>\n",
       "      <td>364.0</td>\n",
       "    </tr>\n",
       "    <tr>\n",
       "      <th>Adams County</th>\n",
       "      <td>3796.0</td>\n",
       "    </tr>\n",
       "    <tr>\n",
       "      <th>Adel city</th>\n",
       "      <td>4245.0</td>\n",
       "    </tr>\n",
       "    <tr>\n",
       "      <th>Afton city</th>\n",
       "      <td>829.0</td>\n",
       "    </tr>\n",
       "    <tr>\n",
       "      <th>Agency city</th>\n",
       "      <td>641.0</td>\n",
       "    </tr>\n",
       "    <tr>\n",
       "      <th>Ainsworth city</th>\n",
       "      <td>571.0</td>\n",
       "    </tr>\n",
       "    <tr>\n",
       "      <th>Akron city</th>\n",
       "      <td>1450.0</td>\n",
       "    </tr>\n",
       "    <tr>\n",
       "      <th>Albert City city</th>\n",
       "      <td>688.0</td>\n",
       "    </tr>\n",
       "    <tr>\n",
       "      <th>Albia city</th>\n",
       "      <td>3829.0</td>\n",
       "    </tr>\n",
       "    <tr>\n",
       "      <th>Albion city</th>\n",
       "      <td>476.0</td>\n",
       "    </tr>\n",
       "    <tr>\n",
       "      <th>Alburnett city</th>\n",
       "      <td>695.0</td>\n",
       "    </tr>\n",
       "    <tr>\n",
       "      <th>Alden city</th>\n",
       "      <td>764.0</td>\n",
       "    </tr>\n",
       "    <tr>\n",
       "      <th>Alexander city</th>\n",
       "      <td>170.0</td>\n",
       "    </tr>\n",
       "    <tr>\n",
       "      <th>Algona city</th>\n",
       "      <td>5470.0</td>\n",
       "    </tr>\n",
       "    <tr>\n",
       "      <th>Allamakee County</th>\n",
       "      <td>13886.0</td>\n",
       "    </tr>\n",
       "    <tr>\n",
       "      <th>Alleman city</th>\n",
       "      <td>443.0</td>\n",
       "    </tr>\n",
       "    <tr>\n",
       "      <th>Allerton city</th>\n",
       "      <td>495.0</td>\n",
       "    </tr>\n",
       "    <tr>\n",
       "      <th>Allison city</th>\n",
       "      <td>1029.0</td>\n",
       "    </tr>\n",
       "    <tr>\n",
       "      <th>Alta Vista city</th>\n",
       "      <td>261.0</td>\n",
       "    </tr>\n",
       "    <tr>\n",
       "      <th>Alta city</th>\n",
       "      <td>1936.0</td>\n",
       "    </tr>\n",
       "    <tr>\n",
       "      <th>Alton city</th>\n",
       "      <td>1264.0</td>\n",
       "    </tr>\n",
       "    <tr>\n",
       "      <th>Altoona city</th>\n",
       "      <td>16984.0</td>\n",
       "    </tr>\n",
       "    <tr>\n",
       "      <th>Alvord city</th>\n",
       "      <td>193.0</td>\n",
       "    </tr>\n",
       "    <tr>\n",
       "      <th>Ames city</th>\n",
       "      <td>65060.0</td>\n",
       "    </tr>\n",
       "    <tr>\n",
       "      <th>Anamosa city</th>\n",
       "      <td>5469.0</td>\n",
       "    </tr>\n",
       "    <tr>\n",
       "      <th>...</th>\n",
       "      <td>...</td>\n",
       "    </tr>\n",
       "    <tr>\n",
       "      <th>Willey city</th>\n",
       "      <td>101.0</td>\n",
       "    </tr>\n",
       "    <tr>\n",
       "      <th>Williams city</th>\n",
       "      <td>335.0</td>\n",
       "    </tr>\n",
       "    <tr>\n",
       "      <th>Williamsburg city</th>\n",
       "      <td>3195.0</td>\n",
       "    </tr>\n",
       "    <tr>\n",
       "      <th>Williamson city</th>\n",
       "      <td>152.0</td>\n",
       "    </tr>\n",
       "    <tr>\n",
       "      <th>Wilton city</th>\n",
       "      <td>2805.0</td>\n",
       "    </tr>\n",
       "    <tr>\n",
       "      <th>Wilton city (pt.)</th>\n",
       "      <td>1402.5</td>\n",
       "    </tr>\n",
       "    <tr>\n",
       "      <th>Windsor Heights city</th>\n",
       "      <td>4889.0</td>\n",
       "    </tr>\n",
       "    <tr>\n",
       "      <th>Winfield city</th>\n",
       "      <td>1142.0</td>\n",
       "    </tr>\n",
       "    <tr>\n",
       "      <th>Winnebago County</th>\n",
       "      <td>10609.0</td>\n",
       "    </tr>\n",
       "    <tr>\n",
       "      <th>Winneshiek County</th>\n",
       "      <td>20709.0</td>\n",
       "    </tr>\n",
       "    <tr>\n",
       "      <th>Winterset city</th>\n",
       "      <td>5176.0</td>\n",
       "    </tr>\n",
       "    <tr>\n",
       "      <th>Winthrop city</th>\n",
       "      <td>849.0</td>\n",
       "    </tr>\n",
       "    <tr>\n",
       "      <th>Wiota city</th>\n",
       "      <td>112.0</td>\n",
       "    </tr>\n",
       "    <tr>\n",
       "      <th>Woden city</th>\n",
       "      <td>223.0</td>\n",
       "    </tr>\n",
       "    <tr>\n",
       "      <th>Woodbine city</th>\n",
       "      <td>1422.0</td>\n",
       "    </tr>\n",
       "    <tr>\n",
       "      <th>Woodburn city</th>\n",
       "      <td>200.0</td>\n",
       "    </tr>\n",
       "    <tr>\n",
       "      <th>Woodbury County</th>\n",
       "      <td>102782.0</td>\n",
       "    </tr>\n",
       "    <tr>\n",
       "      <th>Woodward city</th>\n",
       "      <td>1503.0</td>\n",
       "    </tr>\n",
       "    <tr>\n",
       "      <th>Woodward city (pt.)</th>\n",
       "      <td>751.5</td>\n",
       "    </tr>\n",
       "    <tr>\n",
       "      <th>Woolstock city</th>\n",
       "      <td>163.0</td>\n",
       "    </tr>\n",
       "    <tr>\n",
       "      <th>Worth County</th>\n",
       "      <td>7569.0</td>\n",
       "    </tr>\n",
       "    <tr>\n",
       "      <th>Worthington city</th>\n",
       "      <td>411.0</td>\n",
       "    </tr>\n",
       "    <tr>\n",
       "      <th>Wright County</th>\n",
       "      <td>12773.0</td>\n",
       "    </tr>\n",
       "    <tr>\n",
       "      <th>Wyoming city</th>\n",
       "      <td>511.0</td>\n",
       "    </tr>\n",
       "    <tr>\n",
       "      <th>Yale city</th>\n",
       "      <td>244.0</td>\n",
       "    </tr>\n",
       "    <tr>\n",
       "      <th>Yetter city</th>\n",
       "      <td>33.0</td>\n",
       "    </tr>\n",
       "    <tr>\n",
       "      <th>Yorktown city</th>\n",
       "      <td>83.0</td>\n",
       "    </tr>\n",
       "    <tr>\n",
       "      <th>Zearing city</th>\n",
       "      <td>537.0</td>\n",
       "    </tr>\n",
       "    <tr>\n",
       "      <th>Zwingle city</th>\n",
       "      <td>90.0</td>\n",
       "    </tr>\n",
       "    <tr>\n",
       "      <th>Zwingle city (pt.)</th>\n",
       "      <td>45.0</td>\n",
       "    </tr>\n",
       "  </tbody>\n",
       "</table>\n",
       "<p>1210 rows × 1 columns</p>\n",
       "</div>"
      ],
      "text/plain": [
       "                      POPESTIMATE2015\n",
       "NAME                                 \n",
       "Ackley city                    1560.0\n",
       "Ackley city (pt.)               780.0\n",
       "Ackworth city                    86.0\n",
       "Adair County                   7228.0\n",
       "Adair city                      728.0\n",
       "Adair city (pt.)                364.0\n",
       "Adams County                   3796.0\n",
       "Adel city                      4245.0\n",
       "Afton city                      829.0\n",
       "Agency city                     641.0\n",
       "Ainsworth city                  571.0\n",
       "Akron city                     1450.0\n",
       "Albert City city                688.0\n",
       "Albia city                     3829.0\n",
       "Albion city                     476.0\n",
       "Alburnett city                  695.0\n",
       "Alden city                      764.0\n",
       "Alexander city                  170.0\n",
       "Algona city                    5470.0\n",
       "Allamakee County              13886.0\n",
       "Alleman city                    443.0\n",
       "Allerton city                   495.0\n",
       "Allison city                   1029.0\n",
       "Alta Vista city                 261.0\n",
       "Alta city                      1936.0\n",
       "Alton city                     1264.0\n",
       "Altoona city                  16984.0\n",
       "Alvord city                     193.0\n",
       "Ames city                     65060.0\n",
       "Anamosa city                   5469.0\n",
       "...                               ...\n",
       "Willey city                     101.0\n",
       "Williams city                   335.0\n",
       "Williamsburg city              3195.0\n",
       "Williamson city                 152.0\n",
       "Wilton city                    2805.0\n",
       "Wilton city (pt.)              1402.5\n",
       "Windsor Heights city           4889.0\n",
       "Winfield city                  1142.0\n",
       "Winnebago County              10609.0\n",
       "Winneshiek County             20709.0\n",
       "Winterset city                 5176.0\n",
       "Winthrop city                   849.0\n",
       "Wiota city                      112.0\n",
       "Woden city                      223.0\n",
       "Woodbine city                  1422.0\n",
       "Woodburn city                   200.0\n",
       "Woodbury County              102782.0\n",
       "Woodward city                  1503.0\n",
       "Woodward city (pt.)             751.5\n",
       "Woolstock city                  163.0\n",
       "Worth County                   7569.0\n",
       "Worthington city                411.0\n",
       "Wright County                 12773.0\n",
       "Wyoming city                    511.0\n",
       "Yale city                       244.0\n",
       "Yetter city                      33.0\n",
       "Yorktown city                    83.0\n",
       "Zearing city                    537.0\n",
       "Zwingle city                     90.0\n",
       "Zwingle city (pt.)               45.0\n",
       "\n",
       "[1210 rows x 1 columns]"
      ]
     },
     "execution_count": 118,
     "metadata": {},
     "output_type": "execute_result"
    }
   ],
   "source": [
    "print djs['City'].nunique()\n",
    "print df['NAME'].nunique()\n",
    "\n",
    "df['NAME'] = (df['NAME'].replace( '[\\$,)]','', regex=True )\\\n",
    "                            .replace( '[(]','-',   regex=True ).astype(float))\n",
    "\n",
    "hanks = pd.pivot_table(df, index=['NAME'], values=['POPESTIMATE2015'])\n",
    "hanks"
   ]
  },
  {
   "cell_type": "code",
   "execution_count": null,
   "metadata": {
    "collapsed": false
   },
   "outputs": [],
   "source": []
  },
  {
   "cell_type": "code",
   "execution_count": 79,
   "metadata": {
    "collapsed": false
   },
   "outputs": [
    {
     "name": "stdout",
     "output_type": "stream",
     "text": [
      "Nulls: 1076\n"
     ]
    }
   ],
   "source": [
    "i=0\n",
    "for x in djs['County Number']:\n",
    "    if x > 0:\n",
    "        i+=1\n",
    "print \"Nulls:\", 270954 - i"
   ]
  },
  {
   "cell_type": "code",
   "execution_count": 80,
   "metadata": {
    "collapsed": false
   },
   "outputs": [
    {
     "data": {
      "text/html": [
       "<div>\n",
       "<table border=\"1\" class=\"dataframe\">\n",
       "  <thead>\n",
       "    <tr style=\"text-align: right;\">\n",
       "      <th></th>\n",
       "      <th>County Number</th>\n",
       "    </tr>\n",
       "    <tr>\n",
       "      <th>County</th>\n",
       "      <th></th>\n",
       "    </tr>\n",
       "  </thead>\n",
       "  <tbody>\n",
       "    <tr>\n",
       "      <th>Adair</th>\n",
       "      <td>1.0</td>\n",
       "    </tr>\n",
       "    <tr>\n",
       "      <th>Adams</th>\n",
       "      <td>2.0</td>\n",
       "    </tr>\n",
       "    <tr>\n",
       "      <th>Allamakee</th>\n",
       "      <td>3.0</td>\n",
       "    </tr>\n",
       "    <tr>\n",
       "      <th>Appanoose</th>\n",
       "      <td>4.0</td>\n",
       "    </tr>\n",
       "    <tr>\n",
       "      <th>Audubon</th>\n",
       "      <td>5.0</td>\n",
       "    </tr>\n",
       "  </tbody>\n",
       "</table>\n",
       "</div>"
      ],
      "text/plain": [
       "           County Number\n",
       "County                  \n",
       "Adair                1.0\n",
       "Adams                2.0\n",
       "Allamakee            3.0\n",
       "Appanoose            4.0\n",
       "Audubon              5.0"
      ]
     },
     "execution_count": 80,
     "metadata": {},
     "output_type": "execute_result"
    }
   ],
   "source": [
    "t_hanks = pd.pivot_table(df, index=['County'], values=['County Number'])\n",
    "t_hanks.head()"
   ]
  },
  {
   "cell_type": "code",
   "execution_count": 64,
   "metadata": {
    "collapsed": false
   },
   "outputs": [
    {
     "data": {
      "text/plain": [
       "array([u'Bremer', u'Scott', u'Black Hawk', u'Story', u'Wright', u'Linn',\n",
       "       u'Wapello', u'Cerro Gordo', u'Polk', u'Benton', u'Mahaska', u'Lee',\n",
       "       u'Johnson', u'Jasper', u'Tama', u'Sioux', u'Dickinson',\n",
       "       u'Pottawattamie', u'Warren', u'Webster', u'Boone', u'Jackson',\n",
       "       u'Carroll', u'Hamilton', u'Woodbury', u'Washington', u'Floyd',\n",
       "       u'Delaware', u\"O'Brien\", u'Buena Vista', u'Grundy', u'Dubuque',\n",
       "       u'Adair', u'Crawford', u'Henry', u'Guthrie', u'Winneshiek', u'Clay',\n",
       "       u'Muscatine', u'Taylor', u'Harrison', u'Hardin', u'Kossuth',\n",
       "       u'Dallas', u'Decatur', u'Clinton', u'Butler', u'Des Moines',\n",
       "       u'Calhoun', u'Fayette', u'Jones', nan, u'Hancock', u'Iowa',\n",
       "       u'Howard', u'Appanoose', u'Jefferson', u'Emmet', u'Marshall',\n",
       "       u'Page', u'Cedar', u'Clayton', u'Sac', u'Monona', u'Allamakee',\n",
       "       u'Winnebago', u'Poweshiek', u'Marion', u'Buchanan', u'Franklin',\n",
       "       u'Cherokee', u'Humboldt', u'Greene', u'Keokuk', u'Plymouth',\n",
       "       u'Shelby', u'Clarke', u'Palo Alto', u'Cass', u'Lyon', u'Pocahontas',\n",
       "       u'Ida', u'Union', u'Fremont', u'Montgomery', u'Louisa', u'Mitchell',\n",
       "       u'Mills', u'Madison', u'Davis', u'Lucas', u'Audubon', u'Wayne',\n",
       "       u'Osceola', u'Chickasaw', u'Van Buren', u'Worth', u'Monroe',\n",
       "       u'Adams', u'Ringgold'], dtype=object)"
      ]
     },
     "execution_count": 64,
     "metadata": {},
     "output_type": "execute_result"
    }
   ],
   "source": [
    "djs['County'].unique()"
   ]
  },
  {
   "cell_type": "code",
   "execution_count": 48,
   "metadata": {
    "collapsed": false
   },
   "outputs": [
    {
     "data": {
      "text/plain": [
       "0     $81.00\n",
       "1     $41.26\n",
       "2    $453.36\n",
       "3     $85.50\n",
       "4    $129.60\n",
       "Name: Sale (Dollars), dtype: object"
      ]
     },
     "execution_count": 48,
     "metadata": {},
     "output_type": "execute_result"
    }
   ],
   "source": [
    "djs['Sale (Dollars)'].head()"
   ]
  },
  {
   "cell_type": "code",
   "execution_count": 115,
   "metadata": {
    "collapsed": false
   },
   "outputs": [
    {
     "data": {
      "text/plain": [
       "Index([u'SUMLEV', u'STATE', u'COUNTY', u'PLACE', u'COUSUB', u'CONCIT',\n",
       "       u'PRIMGEO_FLAG', u'FUNCSTAT', u'NAME', u'STNAME', u'CENSUS2010POP',\n",
       "       u'ESTIMATESBASE2010', u'POPESTIMATE2010', u'POPESTIMATE2011',\n",
       "       u'POPESTIMATE2012', u'POPESTIMATE2013', u'POPESTIMATE2014',\n",
       "       u'POPESTIMATE2015'],\n",
       "      dtype='object')"
      ]
     },
     "execution_count": 115,
     "metadata": {},
     "output_type": "execute_result"
    }
   ],
   "source": [
    "df.columns"
   ]
  },
  {
   "cell_type": "code",
   "execution_count": null,
   "metadata": {
    "collapsed": true
   },
   "outputs": [],
   "source": []
  },
  {
   "cell_type": "code",
   "execution_count": null,
   "metadata": {
    "collapsed": false
   },
   "outputs": [],
   "source": []
  },
  {
   "cell_type": "code",
   "execution_count": null,
   "metadata": {
    "collapsed": true
   },
   "outputs": [],
   "source": []
  }
 ],
 "metadata": {
  "anaconda-cloud": {},
  "kernelspec": {
   "display_name": "Python [Root]",
   "language": "python",
   "name": "Python [Root]"
  },
  "language_info": {
   "codemirror_mode": {
    "name": "ipython",
    "version": 2
   },
   "file_extension": ".py",
   "mimetype": "text/x-python",
   "name": "python",
   "nbconvert_exporter": "python",
   "pygments_lexer": "ipython2",
   "version": "2.7.12"
  }
 },
 "nbformat": 4,
 "nbformat_minor": 0
}
